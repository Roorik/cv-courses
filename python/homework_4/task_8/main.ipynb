{
 "cells": [
  {
   "cell_type": "markdown",
   "metadata": {},
   "source": [
    "Напишите скрипт на Python, который:\n",
    "1. Создаст два массива.\n",
    "2. Соединит их горизонтально и вертикально.\n",
    "3. Выведет результаты."
   ]
  },
  {
   "cell_type": "code",
   "execution_count": 1,
   "metadata": {},
   "outputs": [],
   "source": [
    "# создание венвы\n",
    "!python3 -m venv .venv"
   ]
  },
  {
   "cell_type": "code",
   "execution_count": 2,
   "metadata": {},
   "outputs": [],
   "source": [
    "# даём право на редактирование\n",
    "!chmod +x .venv/bin/activate"
   ]
  },
  {
   "cell_type": "code",
   "execution_count": 3,
   "metadata": {},
   "outputs": [],
   "source": [
    "# активируем венву\n",
    "!source .venv/bin/activate"
   ]
  },
  {
   "cell_type": "code",
   "execution_count": null,
   "metadata": {},
   "outputs": [],
   "source": [
    "# деактивируем венву\n",
    "!.venv/bin/activate deactivate"
   ]
  },
  {
   "cell_type": "code",
   "execution_count": null,
   "metadata": {},
   "outputs": [],
   "source": [
    "# проверяем работает ли венва\n",
    "!which python3\n",
    "!which pip"
   ]
  },
  {
   "cell_type": "code",
   "execution_count": null,
   "metadata": {},
   "outputs": [],
   "source": [
    "# устанавливаем либу\n",
    "!pip install numpy"
   ]
  },
  {
   "cell_type": "code",
   "execution_count": null,
   "metadata": {},
   "outputs": [],
   "source": [
    "# проверяем есть ли либа\n",
    "!pip list"
   ]
  },
  {
   "cell_type": "code",
   "execution_count": null,
   "metadata": {},
   "outputs": [],
   "source": [
    "# импорт либ\n",
    "import sys\n",
    "import logging\n",
    "import numpy as np\n",
    "\n",
    "# настраиваем логгирование\n",
    "logging.basicConfig(filename='log.txt', level=logging.INFO)\n",
    "log = logging.getLogger(__name__)\n",
    "\n",
    "def concat_arrays(arr1: np.ndarray, arr2: np.ndarray) -> tuple[np.ndarray, np.ndarray] | None:\n",
    "    '''\n",
    "    Объединяет два массива двумя методами и отдаёт оба результата\n",
    "    \n",
    "    :param arr1: ndarray - первый лист\n",
    "    :param arr2: ndarray - второй лист\n",
    "    return: tuple - (горизонтальный лист, вертикальный лист) | None в случае ошибки\n",
    "    '''\n",
    "    try:\n",
    "        # горизонтальное объединение\n",
    "        hor_concat = np.hstack((arr1, arr2))\n",
    "        # вертикальное объединение\n",
    "        ver_concat = np.vstack((arr1, arr2)).T\n",
    "        log.info('Массивы объединены')\n",
    "        return hor_concat, ver_concat\n",
    "    except ValueError as e:\n",
    "        log.error(f'Произошла ошибка: {e}')\n",
    "        return None\n",
    "    except Exception as e:\n",
    "        log.error(f'Произошла ошибка: {e}')\n",
    "        sys.exit(1)\n",
    "\n",
    "\n",
    "def main():\n",
    "    ''' Мейн функция '''\n",
    "    # создание двух одномерных массивов\n",
    "    a = np.array([1,2,3])\n",
    "    b = np.array([4,5,6]) \n",
    "    \n",
    "    # соединение массивов\n",
    "    result = concat_arrays(a, b)\n",
    "    if result is not None:\n",
    "        hor_array, ver_array = result\n",
    "        print(f'Горизонтальный массив:\\n{hor_array}\\nВеритакльный массив:\\n{ver_array}')\n",
    "    else:\n",
    "        print('Не удалось объединить массивы')\n",
    "\n",
    "if __name__ == '__main__':\n",
    "    main()"
   ]
  }
 ],
 "metadata": {
  "kernelspec": {
   "display_name": ".venv",
   "language": "python",
   "name": "python3"
  },
  "language_info": {
   "codemirror_mode": {
    "name": "ipython",
    "version": 3
   },
   "file_extension": ".py",
   "mimetype": "text/x-python",
   "name": "python",
   "nbconvert_exporter": "python",
   "pygments_lexer": "ipython3",
   "version": "3.10.12"
  }
 },
 "nbformat": 4,
 "nbformat_minor": 2
}
