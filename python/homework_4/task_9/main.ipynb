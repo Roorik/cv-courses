{
 "cells": [
  {
   "cell_type": "markdown",
   "metadata": {},
   "source": [
    "Напишите скрипт на Python, который:\n",
    "1. Создаст массив из 10 случайных целых чисел от 1 до 100.\n",
    "2. Найдет максимальный элемент.\n",
    "3. Заменит его на 0.\n",
    "4. Выведет исходный и измененный массивы."
   ]
  },
  {
   "cell_type": "code",
   "execution_count": 1,
   "metadata": {},
   "outputs": [],
   "source": [
    "# создание венвы\n",
    "!python3 -m venv .venv"
   ]
  },
  {
   "cell_type": "code",
   "execution_count": 2,
   "metadata": {},
   "outputs": [],
   "source": [
    "# даём право на редактирование\n",
    "!chmod +x .venv/bin/activate"
   ]
  },
  {
   "cell_type": "code",
   "execution_count": 3,
   "metadata": {},
   "outputs": [],
   "source": [
    "# активируем венву\n",
    "!source .venv/bin/activate"
   ]
  },
  {
   "cell_type": "code",
   "execution_count": null,
   "metadata": {},
   "outputs": [],
   "source": [
    "# деактивируем венву\n",
    "!.venv/bin/activate deactivate"
   ]
  },
  {
   "cell_type": "code",
   "execution_count": null,
   "metadata": {},
   "outputs": [],
   "source": [
    "# проверяем работает ли венва\n",
    "!which python3\n",
    "!which pip"
   ]
  },
  {
   "cell_type": "code",
   "execution_count": null,
   "metadata": {},
   "outputs": [],
   "source": [
    "# устанавливаем либу\n",
    "!pip install numpy"
   ]
  },
  {
   "cell_type": "code",
   "execution_count": null,
   "metadata": {},
   "outputs": [],
   "source": [
    "# проверяем есть ли либа\n",
    "!pip list"
   ]
  },
  {
   "cell_type": "code",
   "execution_count": null,
   "metadata": {},
   "outputs": [],
   "source": [
    "# импорт либ\n",
    "import sys\n",
    "import logging\n",
    "import numpy as np\n",
    "\n",
    "# настраиваем логгирование\n",
    "logging.basicConfig(filename='log.txt', level=logging.INFO)\n",
    "log = logging.getLogger(__name__)\n",
    "\n",
    "def generate_random_list(low: int, high: int, size: int) -> list:\n",
    "    '''\n",
    "    Генерирует массив рандомных значений\n",
    "    \n",
    "    :param low: int - минимально возможное значение массива\n",
    "    :param high: int - максимально возможное значение массива\n",
    "    :param size: int - размер массива\n",
    "    :return: list - массив рандомных интовых значений\n",
    "    '''\n",
    "    # генерация массива рандомных значенийи перевод в лист\n",
    "    rng = np.random.default_rng()\n",
    "    return list(rng.integers(low=low, high=high, size=size))\n",
    "\n",
    "def main():\n",
    "    ''' Мейн функция '''\n",
    "    # создание массива рандомных значений\n",
    "    M = generate_random_list(low=1, high=100, size=10)\n",
    "    # меняем тип данных значений листа на инт\n",
    "    M = list(map(int, M))\n",
    "    print(f'Сгенерированный массив: {M}')\n",
    "    try:\n",
    "        # находим индекс максимального элемента\n",
    "        max_val_index = M.index(max(M))\n",
    "        # меняем значение наибольшего элемента на 0\n",
    "        M[max_val_index] = 0\n",
    "        print(f'Изменённый массив: {M}')\n",
    "        \n",
    "    except Exception as e:\n",
    "        print('Произошла ошибка')\n",
    "        log.error(f'Произошла ошибка: {e}')\n",
    "\n",
    "if __name__ == '__main__':\n",
    "    main()"
   ]
  }
 ],
 "metadata": {
  "kernelspec": {
   "display_name": ".venv",
   "language": "python",
   "name": "python3"
  },
  "language_info": {
   "codemirror_mode": {
    "name": "ipython",
    "version": 3
   },
   "file_extension": ".py",
   "mimetype": "text/x-python",
   "name": "python",
   "nbconvert_exporter": "python",
   "pygments_lexer": "ipython3",
   "version": "3.10.12"
  }
 },
 "nbformat": 4,
 "nbformat_minor": 2
}
