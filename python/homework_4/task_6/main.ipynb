{
 "cells": [
  {
   "cell_type": "markdown",
   "metadata": {},
   "source": [
    "Решите систему уравнений с помощью библиотеки NumPy:\n",
    "\n",
    "    2x + y = 5\n",
    "    x - y = 1"
   ]
  },
  {
   "cell_type": "code",
   "execution_count": 1,
   "metadata": {},
   "outputs": [],
   "source": [
    "# создание венвы\n",
    "!python3 -m venv .venv"
   ]
  },
  {
   "cell_type": "code",
   "execution_count": 2,
   "metadata": {},
   "outputs": [],
   "source": [
    "# даём право на редактирование\n",
    "!chmod +x .venv/bin/activate"
   ]
  },
  {
   "cell_type": "code",
   "execution_count": 3,
   "metadata": {},
   "outputs": [],
   "source": [
    "# активируем венву\n",
    "!source .venv/bin/activate"
   ]
  },
  {
   "cell_type": "code",
   "execution_count": null,
   "metadata": {},
   "outputs": [],
   "source": [
    "# деактивируем венву\n",
    "!.venv/bin/activate deactivate"
   ]
  },
  {
   "cell_type": "code",
   "execution_count": null,
   "metadata": {},
   "outputs": [],
   "source": [
    "# проверяем работает ли венва\n",
    "!which python3\n",
    "!which pip"
   ]
  },
  {
   "cell_type": "code",
   "execution_count": null,
   "metadata": {},
   "outputs": [],
   "source": [
    "# устанавливаем либу\n",
    "!pip install numpy"
   ]
  },
  {
   "cell_type": "code",
   "execution_count": null,
   "metadata": {},
   "outputs": [],
   "source": [
    "# проверяем есть ли либа\n",
    "!pip list"
   ]
  },
  {
   "cell_type": "code",
   "execution_count": null,
   "metadata": {},
   "outputs": [],
   "source": [
    "# импорт либ\n",
    "import sys\n",
    "import logging\n",
    "import numpy as np\n",
    "\n",
    "# настраиваем логгирование\n",
    "logging.basicConfig(filename='log.txt', level=logging.INFO)\n",
    "log = logging.getLogger(__name__)\n",
    "\n",
    "def main():\n",
    "    ''' Мейн функция '''\n",
    "\n",
    "    print('Задана система уравнений:\\n2x + y = 5\\nx - y = 1')\n",
    "    # оределена матрица коэффициентов где первый и второй лист имеют соответствующие уравнениям коэффициенты\n",
    "    M = np.array([[2., 1.], [1., -1.]])\n",
    "    # задан вектор со значениями уравнений\n",
    "    V = np.array([5., 1.])\n",
    "    try:\n",
    "        # решаем систему уравнений и записываем в переменную\n",
    "        result = np.linalg.solve(M, V)\n",
    "        # достаём значения x и y из листа в отдельные переменные\n",
    "        x, y = int(result[0]), int(result[1])\n",
    "        print(f'Система уравнений имеет следующие значения:\\nx = {x}\\ny = {y}')\n",
    "    except np.linalg.LinAlgError as e:\n",
    "        print('Система уравнений не имеет решений или их бесконечно много')\n",
    "        log.error(f'Произошла ошибка: {e}')\n",
    "\n",
    "if __name__ == '__main__':\n",
    "    main()"
   ]
  }
 ],
 "metadata": {
  "kernelspec": {
   "display_name": ".venv",
   "language": "python",
   "name": "python3"
  },
  "language_info": {
   "codemirror_mode": {
    "name": "ipython",
    "version": 3
   },
   "file_extension": ".py",
   "mimetype": "text/x-python",
   "name": "python",
   "nbconvert_exporter": "python",
   "pygments_lexer": "ipython3",
   "version": "3.10.12"
  }
 },
 "nbformat": 4,
 "nbformat_minor": 2
}
