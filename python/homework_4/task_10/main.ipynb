{
 "cells": [
  {
   "cell_type": "markdown",
   "metadata": {},
   "source": [
    "Напишите скрипт на Python, который:\n",
    "1. Создаст матрицу размером 4x5 со случайными целыми числами от 0 до 10.\n",
    "2. Вычислит среднее значение по каждому столбцу.\n",
    "3. Выведет матрицу и средние значения."
   ]
  },
  {
   "cell_type": "code",
   "execution_count": 1,
   "metadata": {},
   "outputs": [],
   "source": [
    "# создание венвы\n",
    "!python3 -m venv .venv"
   ]
  },
  {
   "cell_type": "code",
   "execution_count": 2,
   "metadata": {},
   "outputs": [],
   "source": [
    "# даём право на редактирование\n",
    "!chmod +x .venv/bin/activate"
   ]
  },
  {
   "cell_type": "code",
   "execution_count": 3,
   "metadata": {},
   "outputs": [],
   "source": [
    "# активируем венву\n",
    "!source .venv/bin/activate"
   ]
  },
  {
   "cell_type": "code",
   "execution_count": null,
   "metadata": {},
   "outputs": [],
   "source": [
    "# деактивируем венву\n",
    "!.venv/bin/activate deactivate"
   ]
  },
  {
   "cell_type": "code",
   "execution_count": null,
   "metadata": {},
   "outputs": [],
   "source": [
    "# проверяем работает ли венва\n",
    "!which python3\n",
    "!which pip"
   ]
  },
  {
   "cell_type": "code",
   "execution_count": null,
   "metadata": {},
   "outputs": [],
   "source": [
    "# устанавливаем либу\n",
    "!pip install numpy"
   ]
  },
  {
   "cell_type": "code",
   "execution_count": null,
   "metadata": {},
   "outputs": [],
   "source": [
    "# проверяем есть ли либа\n",
    "!pip list"
   ]
  },
  {
   "cell_type": "code",
   "execution_count": null,
   "metadata": {},
   "outputs": [],
   "source": [
    "# импорт либ\n",
    "import sys\n",
    "import logging\n",
    "import numpy as np\n",
    "\n",
    "# настраиваем логгирование\n",
    "logging.basicConfig(filename='log.txt', level=logging.INFO)\n",
    "log = logging.getLogger(__name__)\n",
    "\n",
    "def generate_random_matrix(low: int, high: int, size: set) -> np.ndarray:\n",
    "    '''\n",
    "    Генерирует матрицу рандомных значений\n",
    "    \n",
    "    :param low: int - минимально возможное значение матрицы\n",
    "    :param high: int - максимально возможное значение матрицы\n",
    "    :param size: set - размерность матрицы\n",
    "    \n",
    "    :return: ndarray - матрица рандомных значений\n",
    "    '''\n",
    "    return np.random.randint(low=low, high=high, size=size)\n",
    "\n",
    "def main():\n",
    "    ''' Мейн функция '''\n",
    "    try:\n",
    "        low, high, size = 0, 10, (4,5)\n",
    "        # генерация матрицы рандомных значений от 0 до 10 размера 4 на 5\n",
    "        M = generate_random_matrix(low=low, high=high, size=size)\n",
    "        print(f'Сгенерированная матрица: \\n{M}')\n",
    "        # вычисление среднего значения по вертикальной оси  \n",
    "        means = np.mean(M, axis=0)\n",
    "        for i in range(size[0]):\n",
    "            mean = means[i]\n",
    "            print(f'Средние значения:\\n{i+1} столбец - {mean}')\n",
    "    except Exception as e:\n",
    "        print('Произошла ошибка')\n",
    "        log.error(f'Произошла ошибка: {e}')\n",
    "\n",
    "if __name__ == '__main__':\n",
    "    main()"
   ]
  }
 ],
 "metadata": {
  "kernelspec": {
   "display_name": ".venv",
   "language": "python",
   "name": "python3"
  },
  "language_info": {
   "codemirror_mode": {
    "name": "ipython",
    "version": 3
   },
   "file_extension": ".py",
   "mimetype": "text/x-python",
   "name": "python",
   "nbconvert_exporter": "python",
   "pygments_lexer": "ipython3",
   "version": "3.10.12"
  }
 },
 "nbformat": 4,
 "nbformat_minor": 2
}
