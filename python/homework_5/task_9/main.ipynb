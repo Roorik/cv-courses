{
 "cells": [
  {
   "cell_type": "markdown",
   "metadata": {},
   "source": [
    "Сортируйте DataFrame по одному или нескольким столбцам и выполните обратную\n",
    "сортировку по другому столбцу."
   ]
  },
  {
   "cell_type": "code",
   "execution_count": 1,
   "metadata": {},
   "outputs": [],
   "source": [
    "# создание венвы\n",
    "!python3 -m venv .venv"
   ]
  },
  {
   "cell_type": "code",
   "execution_count": 2,
   "metadata": {},
   "outputs": [],
   "source": [
    "# даём право на редактирование\n",
    "!chmod +x .venv/bin/activate"
   ]
  },
  {
   "cell_type": "code",
   "execution_count": 3,
   "metadata": {},
   "outputs": [],
   "source": [
    "# активируем венву\n",
    "!source .venv/bin/activate"
   ]
  },
  {
   "cell_type": "code",
   "execution_count": null,
   "metadata": {},
   "outputs": [],
   "source": [
    "# деактивируем венву\n",
    "!.venv/bin/activate deactivate"
   ]
  },
  {
   "cell_type": "code",
   "execution_count": null,
   "metadata": {},
   "outputs": [],
   "source": [
    "# проверяем работает ли венва\n",
    "!which python3\n",
    "!which pip"
   ]
  },
  {
   "cell_type": "code",
   "execution_count": null,
   "metadata": {},
   "outputs": [],
   "source": [
    "# устанавливаем либу\n",
    "!pip install pandas"
   ]
  },
  {
   "cell_type": "code",
   "execution_count": null,
   "metadata": {},
   "outputs": [],
   "source": [
    "# проверяем есть ли либа\n",
    "!pip list"
   ]
  },
  {
   "cell_type": "code",
   "execution_count": null,
   "metadata": {},
   "outputs": [],
   "source": [
    "# импорт либ\n",
    "import logging\n",
    "import pandas as pd\n",
    "\n",
    "# настраиваем логгирование\n",
    "logging.basicConfig(filename='log.txt', level=logging.INFO)\n",
    "log = logging.getLogger(__name__)\n",
    "\n",
    "def sort_data(input_file: str, column_map: dict) -> pd.DataFrame:\n",
    "    ''' \n",
    "    :param input_file: str - путь к исходному файлу\n",
    "    :param column_map: словарь для определения сортировки для каждого столбца\n",
    "    \n",
    "    :return: DataFrame - отсортированный датафрейм\n",
    "    '''\n",
    "    try: \n",
    "        # чтение файла и запись датафрейма\n",
    "        df = pd.read_csv(input_file)\n",
    "        # записываем в отдельные листы\n",
    "        columns = list(column_map.keys()) # столбцы\n",
    "        ascending = list(column_map.values()) # по возрастанию или нет\n",
    "        # сортируем датафрейм\n",
    "        df.sort_values(columns, ascending = ascending)   \n",
    "        # отдаём результат\n",
    "        return df\n",
    "    except FileNotFoundError as e:\n",
    "        print(f'Ошибка: {input_file} не найден')\n",
    "        log.error(f'Файл {input_file} не найден')\n",
    "    except Exception as e:\n",
    "        print('Ошибка')\n",
    "        log.error(f'Произошла ошибка: {e}')\n",
    "        \n",
    "def main():\n",
    "    # объявляем:\n",
    "    input_file = 'data.csv' # имя исходного файла\n",
    "    column_map = {'Возраст': True, 'Зарплата': False} # карту для сортировки Имя/По возрастанию\n",
    "    \n",
    "    # получаем отсортированный датафрейм\n",
    "    res = sort_data(input_file=input_file, column_map=column_map)\n",
    "    \n",
    "    print(res)\n",
    "\n",
    "if __name__ == '__main__':\n",
    "    main()"
   ]
  }
 ],
 "metadata": {
  "kernelspec": {
   "display_name": ".venv",
   "language": "python",
   "name": "python3"
  },
  "language_info": {
   "codemirror_mode": {
    "name": "ipython",
    "version": 3
   },
   "file_extension": ".py",
   "mimetype": "text/x-python",
   "name": "python",
   "nbconvert_exporter": "python",
   "pygments_lexer": "ipython3",
   "version": "3.10.12"
  }
 },
 "nbformat": 4,
 "nbformat_minor": 2
}
