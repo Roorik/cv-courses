{
 "cells": [
  {
   "cell_type": "markdown",
   "metadata": {},
   "source": [
    "Добавьте новый столбец в DataFrame, значения которого будут рассчитаны на основе\n",
    "существующих данных (например, разность двух других столбцов)."
   ]
  },
  {
   "cell_type": "code",
   "execution_count": 1,
   "metadata": {},
   "outputs": [],
   "source": [
    "# создание венвы\n",
    "!python3 -m venv .venv"
   ]
  },
  {
   "cell_type": "code",
   "execution_count": 2,
   "metadata": {},
   "outputs": [],
   "source": [
    "# даём право на редактирование\n",
    "!chmod +x .venv/bin/activate"
   ]
  },
  {
   "cell_type": "code",
   "execution_count": 3,
   "metadata": {},
   "outputs": [],
   "source": [
    "# активируем венву\n",
    "!source .venv/bin/activate"
   ]
  },
  {
   "cell_type": "code",
   "execution_count": null,
   "metadata": {},
   "outputs": [],
   "source": [
    "# деактивируем венву\n",
    "!.venv/bin/activate deactivate"
   ]
  },
  {
   "cell_type": "code",
   "execution_count": null,
   "metadata": {},
   "outputs": [],
   "source": [
    "# проверяем работает ли венва\n",
    "!which python3\n",
    "!which pip"
   ]
  },
  {
   "cell_type": "code",
   "execution_count": null,
   "metadata": {},
   "outputs": [],
   "source": [
    "# устанавливаем либу\n",
    "!pip install pandas numpy"
   ]
  },
  {
   "cell_type": "code",
   "execution_count": null,
   "metadata": {},
   "outputs": [],
   "source": [
    "# проверяем есть ли либа\n",
    "!pip list"
   ]
  },
  {
   "cell_type": "code",
   "execution_count": null,
   "metadata": {},
   "outputs": [],
   "source": [
    "# импорт либ\n",
    "import sys\n",
    "import logging\n",
    "import numpy as np\n",
    "import pandas as pd\n",
    "\n",
    "# настраиваем логгирование\n",
    "logging.basicConfig(filename='log.txt', level=logging.INFO)\n",
    "log = logging.getLogger(__name__)\n",
    "\n",
    "def total_sum(input_file: str, output_file: str, columns: set) -> None:\n",
    "    '''\n",
    "    Умножает два столбца из CSV файла и записывает в отдельный столбец в копию файла\n",
    "    \n",
    "    :param input_file: str - путь к исходному файлу\n",
    "    :param output_file: str - путь файлу с результатом\n",
    "    :param columns: set - умножаемые столбцы\n",
    "    '''\n",
    "    try:\n",
    "        # чтение файла и запись датафрейма\n",
    "        df = pd.read_csv(input_file)\n",
    "        # получаем столбцы для умножения\n",
    "        col1, col2 = columns[0], columns[1]\n",
    "        # считываем общую выручку и записываем в новый столбец\n",
    "        df['Total'] = df[col1] * df[col2]\n",
    "        # сохранение результата в новый датафрейм\n",
    "        df.to_csv(output_file)\n",
    "    except FileNotFoundError as e:\n",
    "        print(f'Ошибка: {input_file} не найден')\n",
    "        log.error(f'Файл {input_file} не найден')\n",
    "    except Exception as e:\n",
    "        print('Ошибка')\n",
    "        log.error(f'Произошла ошибка: {e}')\n",
    "        \n",
    "def output_new_file(file_name: str) -> None:\n",
    "    '''\n",
    "    Читает CSV файл и выводит в консоль содержимое \n",
    "    \n",
    "    :param file_name: str - путь к файлу\n",
    "    '''\n",
    "    try:\n",
    "        # чтение файла и запись датафрейма\n",
    "        df = pd.read_csv(file_name)\n",
    "        print(df)\n",
    "    except FileNotFoundError as e:\n",
    "        print(f'Ошибка: {file_name} не найден')\n",
    "        log.error(f'Файл {file_name} не найден')\n",
    "    except Exception as e:\n",
    "        print('Ошибка')\n",
    "        log.error(f'Произошла ошибка: {e}')\n",
    "        \n",
    "def main():\n",
    "    # объявляем:\n",
    "    input_file = 'data.csv' # имя исходного файла\n",
    "    output_file = 'new_data.csv' # имя файла с результатом\n",
    "    columns = ('Units Sold', 'Unit Price') # умножаемые столбцы\n",
    "    \n",
    "    # подсчитываем общую выручку по каждой позиции\n",
    "    total_sum(input_file=input_file, output_file=output_file, columns=columns)\n",
    "    \n",
    "    # выводим новый файл\n",
    "    output_new_file(output_file)\n",
    "\n",
    "if __name__ == '__main__':\n",
    "    main()"
   ]
  }
 ],
 "metadata": {
  "kernelspec": {
   "display_name": ".venv",
   "language": "python",
   "name": "python3"
  },
  "language_info": {
   "codemirror_mode": {
    "name": "ipython",
    "version": 3
   },
   "file_extension": ".py",
   "mimetype": "text/x-python",
   "name": "python",
   "nbconvert_exporter": "python",
   "pygments_lexer": "ipython3",
   "version": "3.10.12"
  }
 },
 "nbformat": 4,
 "nbformat_minor": 2
}
