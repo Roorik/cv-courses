{
 "cells": [
  {
   "cell_type": "markdown",
   "metadata": {},
   "source": [
    "Загрузите данные в DataFrame из любого источника (например, CSV-файла) и измените\n",
    "названия столбцов, заменив их на более удобные или понятные."
   ]
  },
  {
   "cell_type": "code",
   "execution_count": 1,
   "metadata": {},
   "outputs": [],
   "source": [
    "# создание венвы\n",
    "!python3 -m venv .venv"
   ]
  },
  {
   "cell_type": "code",
   "execution_count": 2,
   "metadata": {},
   "outputs": [],
   "source": [
    "# даём право на редактирование\n",
    "!chmod +x .venv/bin/activate"
   ]
  },
  {
   "cell_type": "code",
   "execution_count": 3,
   "metadata": {},
   "outputs": [],
   "source": [
    "# активируем венву\n",
    "!source .venv/bin/activate"
   ]
  },
  {
   "cell_type": "code",
   "execution_count": null,
   "metadata": {},
   "outputs": [],
   "source": [
    "# деактивируем венву\n",
    "!.venv/bin/activate deactivate"
   ]
  },
  {
   "cell_type": "code",
   "execution_count": null,
   "metadata": {},
   "outputs": [],
   "source": [
    "# проверяем работает ли венва\n",
    "!which python3\n",
    "!which pip"
   ]
  },
  {
   "cell_type": "code",
   "execution_count": null,
   "metadata": {},
   "outputs": [],
   "source": [
    "# устанавливаем либу\n",
    "!pip install pandas"
   ]
  },
  {
   "cell_type": "code",
   "execution_count": null,
   "metadata": {},
   "outputs": [],
   "source": [
    "# проверяем есть ли либа\n",
    "!pip list"
   ]
  },
  {
   "cell_type": "code",
   "execution_count": null,
   "metadata": {},
   "outputs": [
    {
     "name": "stdout",
     "output_type": "stream",
     "text": [
      "Изначальные заголовки:\n",
      "- Product Name\n",
      "- Units Sold\n",
      "- Unit Price\n",
      "Столбцы успешно переименованы\n",
      "Новые заголовки:\n",
      "- Название продукта\n",
      "- Продано единиц\n",
      "- Цена за единицу\n"
     ]
    }
   ],
   "source": [
    "# импорт либ\n",
    "import sys\n",
    "import logging\n",
    "import pandas as pd\n",
    "\n",
    "# настраиваем логгирование\n",
    "logging.basicConfig(filename='log.txt', level=logging.INFO)\n",
    "log = logging.getLogger(__name__)\n",
    "\n",
    "def rename_columns(input_file: str, output_file: str, column_map: dict) -> None:\n",
    "    ''' \n",
    "    Загружает данные из CSV, переписывает название столбцов и сохраняет результат\n",
    "    \n",
    "    :param input_file: str - путь к исходному файлу\n",
    "    :param output_file: str - путь файлу с результатом\n",
    "    :param column_map: словарь с текущими и новыми названиями столбцов\n",
    "    '''\n",
    "    try:\n",
    "        # чтение файла и запись датафрейма\n",
    "        df = pd.read_csv(input_file)\n",
    "        print('Изначальные заголовки:')\n",
    "        for line in df:\n",
    "            print(f'- {line}')\n",
    "        # переименование столбцов на месте\n",
    "        df.rename(columns=column_map, inplace=True)\n",
    "        # сохранение результата в отдельный файл\n",
    "        df.to_csv(output_file, index=False, encoding='utf-8')\n",
    "        print('Столбцы успешно переименованы')\n",
    "    except FileNotFoundError as e:\n",
    "        print(f'Ошибка: {input_file} не найден')\n",
    "        log.error(f'Файл {input_file} не найден')\n",
    "    except Exception as e:\n",
    "        print('Ошибка')\n",
    "        log.error(f'Произошла ошибка: {e}')\n",
    "        \n",
    "def output_titles(file_name: str) -> None:\n",
    "    '''\n",
    "    Читает CSV файл и выводит в консоль содержимое \n",
    "    \n",
    "    :param file_name: str - путь к файлу\n",
    "    '''\n",
    "    try:\n",
    "        # чтение файла и запись датафрейма\n",
    "        df = pd.read_csv(file_name)\n",
    "        print('Новые заголовки:')\n",
    "        for line in df:\n",
    "            print(f'- {line}')\n",
    "    except FileNotFoundError as e:\n",
    "        print(f'Ошибка: {file_name} не найден')\n",
    "        log.error(f'Файл {file_name} не найден')\n",
    "    except Exception as e:\n",
    "        print('Ошибка')\n",
    "        log.error(f'Произошла ошибка: {e}')\n",
    "\n",
    "def main():\n",
    "    # объявляем:\n",
    "    input_file = 'data.csv' # имя исходного файла\n",
    "    output_file = 'new_data.csv' # имя файла с результатом\n",
    "    column_map = {'Product Name': 'Название продукта', 'Units Sold': 'Продано единиц', 'Unit Price': 'Цена за единицу'} # карта имён\n",
    "    \n",
    "    # переименовываем и записываем результат в новый файл\n",
    "    rename_columns(input_file, output_file, column_map)\n",
    "    \n",
    "    # выводим новые тайтлы\n",
    "    output_titles(output_file)\n",
    "\n",
    "\n",
    "if __name__ == '__main__':\n",
    "    main()"
   ]
  }
 ],
 "metadata": {
  "kernelspec": {
   "display_name": ".venv",
   "language": "python",
   "name": "python3"
  },
  "language_info": {
   "codemirror_mode": {
    "name": "ipython",
    "version": 3
   },
   "file_extension": ".py",
   "mimetype": "text/x-python",
   "name": "python",
   "nbconvert_exporter": "python",
   "pygments_lexer": "ipython3",
   "version": "3.10.12"
  }
 },
 "nbformat": 4,
 "nbformat_minor": 2
}
