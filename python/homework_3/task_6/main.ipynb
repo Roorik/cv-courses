{
 "cells": [
  {
   "cell_type": "markdown",
   "metadata": {},
   "source": [
    "Напишите скрипт на Python, который:\n",
    "1. Добавляет три новых дела через «https://dummyjson.com/todos/add» в цикле:\n",
    " - «\"Read a book\"«\n",
    " - «\"Write unit tests\"«\n",
    " - «\"Update documentation\"«\n",
    "2. Выводит ID добавленных дел"
   ]
  },
  {
   "cell_type": "code",
   "execution_count": 12,
   "metadata": {},
   "outputs": [],
   "source": [
    "# создание венвы\n",
    "!python3 -m venv .venv"
   ]
  },
  {
   "cell_type": "code",
   "execution_count": 13,
   "metadata": {},
   "outputs": [],
   "source": [
    "# даём право на редактирование\n",
    "!chmod +x .venv/bin/activate"
   ]
  },
  {
   "cell_type": "code",
   "execution_count": 14,
   "metadata": {},
   "outputs": [],
   "source": [
    "# активируем венву\n",
    "!source .venv/bin/activate"
   ]
  },
  {
   "cell_type": "code",
   "execution_count": 15,
   "metadata": {},
   "outputs": [],
   "source": [
    "# деактивируем венву\n",
    "!.venv/bin/activate deactivate"
   ]
  },
  {
   "cell_type": "code",
   "execution_count": 16,
   "metadata": {},
   "outputs": [
    {
     "name": "stdout",
     "output_type": "stream",
     "text": [
      "/home/roorik/dev/study/git-courses/cv-courses/.venv/bin/python3\n",
      "/home/roorik/dev/study/git-courses/cv-courses/.venv/bin/pip\n"
     ]
    }
   ],
   "source": [
    "# проверяем работает ли венва\n",
    "!which python3\n",
    "!which pip"
   ]
  },
  {
   "cell_type": "code",
   "execution_count": null,
   "metadata": {},
   "outputs": [],
   "source": [
    "# устанавливаем либу\n",
    "!pip install requests"
   ]
  },
  {
   "cell_type": "code",
   "execution_count": null,
   "metadata": {},
   "outputs": [],
   "source": [
    "\n",
    "# проверяем есть ли либа\n",
    "!pip list"
   ]
  },
  {
   "cell_type": "code",
   "execution_count": null,
   "metadata": {},
   "outputs": [],
   "source": [
    "# импорт либ\n",
    "import sys\n",
    "import logging\n",
    "import requests\n",
    "\n",
    "# настраиваем логгирование\n",
    "logging.basicConfig(filename='log.txt', level=logging.INFO)\n",
    "log = logging.getLogger(__name__)\n",
    "\n",
    "def post_todos(url: str, request_bodies: list) -> list:\n",
    "    '''\n",
    "    Отправляет POST запрос к ресурсу и возвращает JSON продуктов\n",
    "    \n",
    "    :param url: str - ссылка на ресурс\n",
    "    :param request_bodies: list - параметры запроса\n",
    "    :return: list - контент ответа   \n",
    "    '''\n",
    "    results = []\n",
    "    try:\n",
    "        for body in request_bodies:\n",
    "            # отправляем POST запрос\n",
    "            response = requests.post(url, json=body)\n",
    "            # проверяем код ответа\n",
    "            response.raise_for_status()\n",
    "            results.append(response.json())\n",
    "        log.info('Отправка запроса к API')\n",
    "        return results\n",
    "    except requests.exceptions.RequestException as e:\n",
    "        # обрабатываем ошибки\n",
    "        log.error(f'Произошла ошибка: {e}')\n",
    "        sys.exit(1)\n",
    "\n",
    "        \n",
    "def main(): \n",
    "    ''' Мейн функция '''\n",
    "    # url ресурса\n",
    "    url = 'https://dummyjson.com/todos/add'\n",
    "    # параметры запроса  \n",
    "    request_bodies = [\n",
    "        {\n",
    "            'todo': 'Read a book',\n",
    "            'completed': False,\n",
    "            'userId': 1,\n",
    "        },\n",
    "        {\n",
    "            'todo': 'Write unit tests',\n",
    "            'completed': False,\n",
    "            'userId': 1,\n",
    "        },\n",
    "        {\n",
    "            'todo': 'Update documentation',\n",
    "            'completed': False,\n",
    "            'userId': 1,\n",
    "        },\n",
    "    ]\n",
    "    \n",
    "    # получаем список задач\n",
    "    todos_list = post_todos(url, request_bodies)\n",
    "    \n",
    "    for task in todos_list:\n",
    "        print(task.get('id', None))\n",
    "\n",
    "if __name__ == '__main__':\n",
    "    # вызываем мейн функцию\n",
    "    main()"
   ]
  }
 ],
 "metadata": {
  "kernelspec": {
   "display_name": ".venv",
   "language": "python",
   "name": "python3"
  },
  "language_info": {
   "codemirror_mode": {
    "name": "ipython",
    "version": 3
   },
   "file_extension": ".py",
   "mimetype": "text/x-python",
   "name": "python",
   "nbconvert_exporter": "python",
   "pygments_lexer": "ipython3",
   "version": "3.10.12"
  }
 },
 "nbformat": 4,
 "nbformat_minor": 2
}
