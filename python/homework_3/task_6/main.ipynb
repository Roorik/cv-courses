{
 "cells": [
  {
   "cell_type": "markdown",
   "metadata": {},
   "source": [
    "Напишите скрипт на Python, который:\n",
    "1. Добавляет три новых дела через «https://dummyjson.com/todos/add» в цикле:\n",
    " - «\"Read a book\"«\n",
    " - «\"Write unit tests\"«\n",
    " - «\"Update documentation\"«\n",
    "2. Выводит ID добавленных дел"
   ]
  },
  {
   "cell_type": "code",
   "execution_count": 12,
   "metadata": {},
   "outputs": [],
   "source": [
    "# создание венвы\n",
    "!python3 -m venv .venv"
   ]
  },
  {
   "cell_type": "code",
   "execution_count": 13,
   "metadata": {},
   "outputs": [],
   "source": [
    "# даём право на редактирование\n",
    "!chmod +x .venv/bin/activate"
   ]
  },
  {
   "cell_type": "code",
   "execution_count": 14,
   "metadata": {},
   "outputs": [],
   "source": [
    "# активируем венву\n",
    "!source .venv/bin/activate"
   ]
  },
  {
   "cell_type": "code",
   "execution_count": 15,
   "metadata": {},
   "outputs": [],
   "source": [
    "# деактивируем венву\n",
    "!.venv/bin/activate deactivate"
   ]
  },
  {
   "cell_type": "code",
   "execution_count": 16,
   "metadata": {},
   "outputs": [
    {
     "name": "stdout",
     "output_type": "stream",
     "text": [
      "/home/roorik/dev/study/git-courses/cv-courses/.venv/bin/python3\n",
      "/home/roorik/dev/study/git-courses/cv-courses/.venv/bin/pip\n"
     ]
    }
   ],
   "source": [
    "# проверяем работает ли венва\n",
    "!which python3\n",
    "!which pip"
   ]
  },
  {
   "cell_type": "code",
   "execution_count": 17,
   "metadata": {},
   "outputs": [
    {
     "name": "stdout",
     "output_type": "stream",
     "text": [
      "Requirement already satisfied: requests in /home/roorik/dev/study/git-courses/cv-courses/.venv/lib/python3.10/site-packages (2.32.3)\n",
      "Requirement already satisfied: charset-normalizer<4,>=2 in /home/roorik/dev/study/git-courses/cv-courses/.venv/lib/python3.10/site-packages (from requests) (3.4.0)\n",
      "Requirement already satisfied: idna<4,>=2.5 in /home/roorik/dev/study/git-courses/cv-courses/.venv/lib/python3.10/site-packages (from requests) (3.10)\n",
      "Requirement already satisfied: certifi>=2017.4.17 in /home/roorik/dev/study/git-courses/cv-courses/.venv/lib/python3.10/site-packages (from requests) (2024.8.30)\n",
      "Requirement already satisfied: urllib3<3,>=1.21.1 in /home/roorik/dev/study/git-courses/cv-courses/.venv/lib/python3.10/site-packages (from requests) (2.2.3)\n"
     ]
    }
   ],
   "source": [
    "# устанавливаем либу\n",
    "!pip install requests"
   ]
  },
  {
   "cell_type": "code",
   "execution_count": 18,
   "metadata": {},
   "outputs": [
    {
     "name": "stdout",
     "output_type": "stream",
     "text": [
      "Package            Version\n",
      "------------------ -----------\n",
      "annotated-types    0.7.0\n",
      "asttokens          2.4.1\n",
      "certifi            2024.8.30\n",
      "charset-normalizer 3.4.0\n",
      "comm               0.2.2\n",
      "contourpy          1.3.0\n",
      "cowsay             6.1\n",
      "cycler             0.12.1\n",
      "debugpy            1.8.9\n",
      "decorator          5.1.1\n",
      "ephem              4.1.6\n",
      "et_xmlfile         2.0.0\n",
      "exceptiongroup     1.2.2\n",
      "executing          2.1.0\n",
      "fonttools          4.54.1\n",
      "idna               3.10\n",
      "ipykernel          6.29.5\n",
      "ipython            8.29.0\n",
      "jedi               0.19.2\n",
      "jupyter_client     8.6.3\n",
      "jupyter_core       5.7.2\n",
      "kiwisolver         1.4.7\n",
      "matplotlib         3.9.2\n",
      "matplotlib-inline  0.1.7\n",
      "nest-asyncio       1.6.0\n",
      "numpy              2.1.2\n",
      "opencv-python      4.10.0.84\n",
      "openpyxl           3.1.5\n",
      "packaging          24.1\n",
      "pandas             2.2.3\n",
      "parso              0.8.4\n",
      "pexpect            4.9.0\n",
      "pillow             11.0.0\n",
      "pip                22.0.2\n",
      "platformdirs       4.3.6\n",
      "prompt_toolkit     3.0.48\n",
      "psutil             6.1.0\n",
      "ptyprocess         0.7.0\n",
      "pure_eval          0.2.3\n",
      "pydantic           2.9.2\n",
      "pydantic_core      2.23.4\n",
      "pygame             2.6.1\n",
      "Pygments           2.18.0\n",
      "pyparsing          3.2.0\n",
      "python-dateutil    2.9.0.post0\n",
      "pytz               2024.2\n",
      "pyzmq              26.2.0\n",
      "requests           2.32.3\n",
      "setuptools         59.6.0\n",
      "six                1.16.0\n",
      "stack-data         0.6.3\n",
      "tabulate           0.9.0\n",
      "tornado            6.4.2\n",
      "traitlets          5.14.3\n",
      "typing_extensions  4.12.2\n",
      "tzdata             2024.2\n",
      "urllib3            2.2.3\n",
      "wcwidth            0.2.13\n"
     ]
    }
   ],
   "source": [
    "\n",
    "# проверяем есть ли либа\n",
    "!pip list"
   ]
  },
  {
   "cell_type": "code",
   "execution_count": null,
   "metadata": {},
   "outputs": [
    {
     "name": "stdout",
     "output_type": "stream",
     "text": [
      "255\n",
      "255\n",
      "255\n"
     ]
    }
   ],
   "source": [
    "# импорт либ\n",
    "import sys\n",
    "import logging\n",
    "import requests\n",
    "\n",
    "# настраиваем логгирование\n",
    "logging.basicConfig(filename='log.txt', level=logging.INFO)\n",
    "log = logging.getLogger(__name__)\n",
    "\n",
    "def post_todos(url: str, request_bodies: list) -> list:\n",
    "    '''\n",
    "    Отправляет POST запрос к ресурсу и возвращает JSON продуктов\n",
    "    \n",
    "    :param url: str - ссылка на ресурс\n",
    "    :param request_bodies: list - параметры запроса\n",
    "    :return: list - контент ответа   \n",
    "    '''\n",
    "    results = []\n",
    "    try:\n",
    "        for body in request_bodies:\n",
    "            # отправляем POST запрос\n",
    "            response = requests.post(url, json=body)\n",
    "            # проверяем код ответа\n",
    "            response.raise_for_status()\n",
    "            results.append(response.json())\n",
    "        log.info('Отправка запроса к API')\n",
    "        return results\n",
    "    except requests.exceptions.RequestException as e:\n",
    "        # обрабатываем ошибки\n",
    "        log.error(f'Произошла ошибка: {e}')\n",
    "        sys.exit(1)\n",
    "\n",
    "        \n",
    "def main(): \n",
    "    ''' Мейн функция '''\n",
    "    # url ресурса\n",
    "    url = 'https://dummyjson.com/todos/add'\n",
    "    # параметры запроса  \n",
    "    request_bodies = [\n",
    "        {\n",
    "            'todo': 'Read a book',\n",
    "            'completed': False,\n",
    "            'userId': 1,\n",
    "        },\n",
    "        {\n",
    "            'todo': 'Write unit tests',\n",
    "            'completed': False,\n",
    "            'userId': 1,\n",
    "        },\n",
    "        {\n",
    "            'todo': 'Update documentation',\n",
    "            'completed': False,\n",
    "            'userId': 1,\n",
    "        },\n",
    "    ]\n",
    "    \n",
    "    # получаем список задач\n",
    "    todos_list = post_todos(url, request_bodies)\n",
    "    \n",
    "    for task in todos_list:\n",
    "        print(task.get('id', None))\n",
    "\n",
    "if __name__ == '__main__':\n",
    "    # вызываем мейн функцию\n",
    "    main()"
   ]
  }
 ],
 "metadata": {
  "kernelspec": {
   "display_name": ".venv",
   "language": "python",
   "name": "python3"
  },
  "language_info": {
   "codemirror_mode": {
    "name": "ipython",
    "version": 3
   },
   "file_extension": ".py",
   "mimetype": "text/x-python",
   "name": "python",
   "nbconvert_exporter": "python",
   "pygments_lexer": "ipython3",
   "version": "3.10.12"
  }
 },
 "nbformat": 4,
 "nbformat_minor": 2
}
