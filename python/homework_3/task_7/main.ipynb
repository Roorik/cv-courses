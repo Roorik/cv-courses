{
 "cells": [
  {
   "cell_type": "markdown",
   "metadata": {},
   "source": [
    "1. Получает все категории товаров используя эндпоинт: «https://dummyjson.com/products/categories».\n",
    "2. Предлагает пользователю выбрать категорию товара из списка.\n",
    "3. Получает продукты из выбранной категории обращаясь к эндпоинту: «https://dummyjson.com/products/category/{category}».\n",
    "4. Выводит названия продуктов в этой категории"
   ]
  },
  {
   "cell_type": "code",
   "execution_count": 1,
   "metadata": {},
   "outputs": [],
   "source": [
    "# создание венвы\n",
    "!python3 -m venv .venv"
   ]
  },
  {
   "cell_type": "code",
   "execution_count": 2,
   "metadata": {},
   "outputs": [],
   "source": [
    "# даём право на редактирование\n",
    "!chmod +x .venv/bin/activate"
   ]
  },
  {
   "cell_type": "code",
   "execution_count": 1,
   "metadata": {},
   "outputs": [],
   "source": [
    "# активируем венву\n",
    "!source .venv/bin/activate"
   ]
  },
  {
   "cell_type": "code",
   "execution_count": 15,
   "metadata": {},
   "outputs": [],
   "source": [
    "# деактивируем венву\n",
    "!.venv/bin/activate deactivate"
   ]
  },
  {
   "cell_type": "code",
   "execution_count": 2,
   "metadata": {},
   "outputs": [
    {
     "name": "stdout",
     "output_type": "stream",
     "text": [
      "/home/roorik/dev/study/git-courses/cv-courses/.venv/bin/python3\n",
      "/home/roorik/dev/study/git-courses/cv-courses/.venv/bin/pip\n"
     ]
    }
   ],
   "source": [
    "# проверяем работает ли венва\n",
    "!which python3\n",
    "!which pip"
   ]
  },
  {
   "cell_type": "code",
   "execution_count": null,
   "metadata": {},
   "outputs": [],
   "source": [
    "# устанавливаем либу\n",
    "!pip install requests"
   ]
  },
  {
   "cell_type": "code",
   "execution_count": null,
   "metadata": {},
   "outputs": [],
   "source": [
    "\n",
    "# проверяем есть ли либа\n",
    "!pip list"
   ]
  },
  {
   "cell_type": "code",
   "execution_count": null,
   "metadata": {},
   "outputs": [
    {
     "name": "stdout",
     "output_type": "stream",
     "text": [
      "- beauty\n",
      "- fragrances\n",
      "- furniture\n",
      "- groceries\n",
      "- home-decoration\n",
      "- kitchen-accessories\n",
      "- laptops\n",
      "- mens-shirts\n",
      "- mens-shoes\n",
      "- mens-watches\n",
      "- mobile-accessories\n",
      "- motorcycle\n",
      "- skin-care\n",
      "- smartphones\n",
      "- sports-accessories\n",
      "- sunglasses\n",
      "- tablets\n",
      "- tops\n",
      "- vehicle\n",
      "- womens-bags\n",
      "- womens-dresses\n",
      "- womens-jewellery\n",
      "- womens-shoes\n",
      "- womens-watches\n",
      "-- Generic Motorcycle\n",
      "-- Kawasaki Z800\n",
      "-- MotoGP CI.H1\n",
      "-- Scooter Motorcycle\n",
      "-- Sportbike Motorcycle\n"
     ]
    }
   ],
   "source": [
    "# импорт либ\n",
    "import sys\n",
    "import logging\n",
    "import requests\n",
    "\n",
    "# настраиваем логгирование\n",
    "logging.basicConfig(filename='log.txt', level=logging.INFO)\n",
    "log = logging.getLogger(__name__)\n",
    "\n",
    "def get_categories_list(url: str) -> list:\n",
    "    '''\n",
    "    Отправляет GET запрос к ресурсу и возвращает лист категорий товаров\n",
    "    \n",
    "    :param url: str - ссылка на ресурс\n",
    "    :return: list - лист категорий товаров\n",
    "    '''\n",
    "    try:\n",
    "        # отправляем GET запрос\n",
    "        response = requests.get(url)\n",
    "        # проверяем код ответа\n",
    "        response.raise_for_status()\n",
    "        log.info('Отправка запроса к API')\n",
    "        return response.json()\n",
    "    except Exception as e:\n",
    "        # обрабатываем ошибки\n",
    "        log.error(f'Произошла ошибка: {e}')\n",
    "        sys.exit(1)\n",
    "\n",
    "def get_products(url: str, category: str) -> dict:\n",
    "    '''\n",
    "    Отправляет GET запрос к ресурсу и возвращает дикт товаров выбранной категории\n",
    "    \n",
    "    :param url: str - ссылка на ресурс\n",
    "    :param category: str - выбранная категория товартов\n",
    "    :return: dict - дикт товаров категории\n",
    "    '''\n",
    "    try:\n",
    "        # отправляем GET запрос\n",
    "        response = requests.get(f'{url}/{category}')\n",
    "        # проверяем код ответа\n",
    "        response.raise_for_status()\n",
    "        log.info('Отправка запроса к API')\n",
    "        return response.json()\n",
    "    except Exception as e:\n",
    "        # обрабатываем ошибки\n",
    "        log.error(f'Произошла ошибка: {e}')\n",
    "        sys.exit(1)\n",
    "    \n",
    "\n",
    "def main(): \n",
    "    ''' Мейн функция '''\n",
    "    # url ресурса для получения листа категорий\n",
    "    url_categories = 'https://dummyjson.com/products/category-list'\n",
    "    # получаем лист категорий\n",
    "    categories = get_categories_list(url_categories)\n",
    "    \n",
    "    # выводим построчно категории\n",
    "    for category in categories:\n",
    "        print(f'- {category}')\n",
    "\n",
    "    # запрос ввода юзера пока не будет указана категория в списке возможных\n",
    "    while True:\n",
    "        choice = input('Укажите необходимую категорию')\n",
    "        if choice.lower() in categories:\n",
    "            break\n",
    "    \n",
    "    # url ресурса для получения товаров\n",
    "    url_products = 'https://dummyjson.com/products/category'\n",
    "    # получаем товары\n",
    "    data = get_products(url_products, choice)\n",
    "    # выводим товары\n",
    "    products = data.get('products', [])\n",
    "    # выводим названия продуктов построчно\n",
    "    for product in products:\n",
    "        title = product.get('title', 'N/A')\n",
    "        print(f'-- {title}')\n",
    "\n",
    "\n",
    "if __name__ == '__main__':\n",
    "    # вызываем мейн функцию\n",
    "    main()"
   ]
  }
 ],
 "metadata": {
  "kernelspec": {
   "display_name": ".venv",
   "language": "python",
   "name": "python3"
  },
  "language_info": {
   "codemirror_mode": {
    "name": "ipython",
    "version": 3
   },
   "file_extension": ".py",
   "mimetype": "text/x-python",
   "name": "python",
   "nbconvert_exporter": "python",
   "pygments_lexer": "ipython3",
   "version": "3.10.12"
  }
 },
 "nbformat": 4,
 "nbformat_minor": 2
}
