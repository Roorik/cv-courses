{
 "cells": [
  {
   "cell_type": "markdown",
   "metadata": {},
   "source": [
    "Напишите скрипт на Python, который:\n",
    "1. Получает все дела, которые не выполнены, используя «https://dummyjson.com/todos».\n",
    "2. Подсчитывает и выводит количество невыполненных дел."
   ]
  },
  {
   "cell_type": "code",
   "execution_count": 1,
   "metadata": {},
   "outputs": [],
   "source": [
    "# создание венвы\n",
    "!python3 -m venv .venv"
   ]
  },
  {
   "cell_type": "code",
   "execution_count": 2,
   "metadata": {},
   "outputs": [],
   "source": [
    "# даём право на редактирование\n",
    "!chmod +x .venv/bin/activate"
   ]
  },
  {
   "cell_type": "code",
   "execution_count": 3,
   "metadata": {},
   "outputs": [],
   "source": [
    "# активируем венву\n",
    "!source .venv/bin/activate"
   ]
  },
  {
   "cell_type": "code",
   "execution_count": null,
   "metadata": {},
   "outputs": [],
   "source": [
    "# деактивируем венву\n",
    "!.venv/bin/activate deactivate"
   ]
  },
  {
   "cell_type": "code",
   "execution_count": null,
   "metadata": {},
   "outputs": [],
   "source": [
    "# проверяем работает ли венва\n",
    "!which python3\n",
    "!which pip"
   ]
  },
  {
   "cell_type": "code",
   "execution_count": null,
   "metadata": {},
   "outputs": [],
   "source": [
    "# устанавливаем либу\n",
    "!pip install requests"
   ]
  },
  {
   "cell_type": "code",
   "execution_count": null,
   "metadata": {},
   "outputs": [],
   "source": [
    "\n",
    "# проверяем есть ли либа\n",
    "!pip list"
   ]
  },
  {
   "cell_type": "code",
   "execution_count": null,
   "metadata": {},
   "outputs": [],
   "source": [
    "# импорт либ\n",
    "import sys\n",
    "import logging\n",
    "import requests\n",
    "\n",
    "# настраиваем логгирование\n",
    "logging.basicConfig(filename='log.txt', level=logging.INFO)\n",
    "log = logging.getLogger(__name__)\n",
    "\n",
    "def get_todos_info(url) -> dict:\n",
    "    '''\n",
    "    Отправляет GET запрос к ресурсу и возвращает лист задач\n",
    "    \n",
    "    :param url: str - ссылка на ресурс\n",
    "    :return: list - неотфильтрованный лист задач\n",
    "    '''\n",
    "    try:\n",
    "        # отправляем GET запрос\n",
    "        response = requests.get(url)\n",
    "        # проверяем код ответа\n",
    "        response.raise_for_status()\n",
    "        log.info('Отправка запроса к API')\n",
    "        return response.json()\n",
    "    except requests.exceptions.RequestException as e:\n",
    "        # обрабатываем ошибки\n",
    "        log.error(f'Произошла ошибка: {e}')\n",
    "        sys.exit(1)\n",
    "        \n",
    "def filter_todoes(todos_info: list) -> list:\n",
    "    '''\n",
    "    Сортирует полученный лист\n",
    "    \n",
    "    :param todos_info: list - лист задач\n",
    "    :return: list - отфильтрованный лист задач\n",
    "    '''\n",
    "    # составление листа невыполенных задач\n",
    "    filtered_todos = [task for task in todos_info['todos'] if not task.get('completed', False)]\n",
    "    \n",
    "    return filtered_todos\n",
    "    \n",
    "        \n",
    "def main():\n",
    "    ''' Мейн функция '''\n",
    "    # url ресурса для получения авторизации\n",
    "    url = 'https://dummyjson.com/todos'\n",
    "    # получаем данные авторизованного юзера\n",
    "    todos_info = get_todos_info(url)\n",
    "    # фильтрация \n",
    "    filtered_todos = filter_todoes(todos_info)\n",
    "    \n",
    "    print(filtered_todos)\n",
    "\n",
    "if __name__ == '__main__':\n",
    "    main()"
   ]
  }
 ],
 "metadata": {
  "kernelspec": {
   "display_name": ".venv",
   "language": "python",
   "name": "python3"
  },
  "language_info": {
   "codemirror_mode": {
    "name": "ipython",
    "version": 3
   },
   "file_extension": ".py",
   "mimetype": "text/x-python",
   "name": "python",
   "nbconvert_exporter": "python",
   "pygments_lexer": "ipython3",
   "version": "3.10.12"
  }
 },
 "nbformat": 4,
 "nbformat_minor": 2
}
