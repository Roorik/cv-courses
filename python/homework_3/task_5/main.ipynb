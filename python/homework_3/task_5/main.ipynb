{
 "cells": [
  {
   "cell_type": "markdown",
   "metadata": {},
   "source": [
    "Напишите скрипт на Python, который:\n",
    "1. Получает все дела, которые не выполнены, используя «https://dummyjson.com/todos».\n",
    "2. Подсчитывает и выводит количество невыполненных дел."
   ]
  },
  {
   "cell_type": "code",
   "execution_count": 1,
   "metadata": {},
   "outputs": [],
   "source": [
    "# создание венвы\n",
    "!python3 -m venv .venv"
   ]
  },
  {
   "cell_type": "code",
   "execution_count": 2,
   "metadata": {},
   "outputs": [],
   "source": [
    "# даём право на редактирование\n",
    "!chmod +x .venv/bin/activate"
   ]
  },
  {
   "cell_type": "code",
   "execution_count": 3,
   "metadata": {},
   "outputs": [],
   "source": [
    "# активируем венву\n",
    "!source .venv/bin/activate"
   ]
  },
  {
   "cell_type": "code",
   "execution_count": null,
   "metadata": {},
   "outputs": [],
   "source": [
    "# деактивируем венву\n",
    "!.venv/bin/activate deactivate"
   ]
  },
  {
   "cell_type": "code",
   "execution_count": 4,
   "metadata": {},
   "outputs": [
    {
     "name": "stdout",
     "output_type": "stream",
     "text": [
      "/home/roorik/dev/study/git-courses/cv-courses/.venv/bin/python3\n",
      "/home/roorik/dev/study/git-courses/cv-courses/.venv/bin/pip\n"
     ]
    }
   ],
   "source": [
    "# проверяем работает ли венва\n",
    "!which python3\n",
    "!which pip"
   ]
  },
  {
   "cell_type": "code",
   "execution_count": 5,
   "metadata": {},
   "outputs": [
    {
     "name": "stdout",
     "output_type": "stream",
     "text": [
      "Requirement already satisfied: requests in /home/roorik/dev/study/git-courses/cv-courses/.venv/lib/python3.10/site-packages (2.32.3)\n",
      "Requirement already satisfied: urllib3<3,>=1.21.1 in /home/roorik/dev/study/git-courses/cv-courses/.venv/lib/python3.10/site-packages (from requests) (2.2.3)\n",
      "Requirement already satisfied: certifi>=2017.4.17 in /home/roorik/dev/study/git-courses/cv-courses/.venv/lib/python3.10/site-packages (from requests) (2024.8.30)\n",
      "Requirement already satisfied: charset-normalizer<4,>=2 in /home/roorik/dev/study/git-courses/cv-courses/.venv/lib/python3.10/site-packages (from requests) (3.4.0)\n",
      "Requirement already satisfied: idna<4,>=2.5 in /home/roorik/dev/study/git-courses/cv-courses/.venv/lib/python3.10/site-packages (from requests) (3.10)\n"
     ]
    }
   ],
   "source": [
    "# устанавливаем либу\n",
    "!pip install requests"
   ]
  },
  {
   "cell_type": "code",
   "execution_count": 6,
   "metadata": {},
   "outputs": [
    {
     "name": "stdout",
     "output_type": "stream",
     "text": [
      "Package            Version\n",
      "------------------ -----------\n",
      "annotated-types    0.7.0\n",
      "asttokens          2.4.1\n",
      "certifi            2024.8.30\n",
      "charset-normalizer 3.4.0\n",
      "comm               0.2.2\n",
      "contourpy          1.3.0\n",
      "cowsay             6.1\n",
      "cycler             0.12.1\n",
      "debugpy            1.8.9\n",
      "decorator          5.1.1\n",
      "ephem              4.1.6\n",
      "et_xmlfile         2.0.0\n",
      "exceptiongroup     1.2.2\n",
      "executing          2.1.0\n",
      "fonttools          4.54.1\n",
      "idna               3.10\n",
      "ipykernel          6.29.5\n",
      "ipython            8.29.0\n",
      "jedi               0.19.2\n",
      "jupyter_client     8.6.3\n",
      "jupyter_core       5.7.2\n",
      "kiwisolver         1.4.7\n",
      "matplotlib         3.9.2\n",
      "matplotlib-inline  0.1.7\n",
      "nest-asyncio       1.6.0\n",
      "numpy              2.1.2\n",
      "opencv-python      4.10.0.84\n",
      "openpyxl           3.1.5\n",
      "packaging          24.1\n",
      "pandas             2.2.3\n",
      "parso              0.8.4\n",
      "pexpect            4.9.0\n",
      "pillow             11.0.0\n",
      "pip                22.0.2\n",
      "platformdirs       4.3.6\n",
      "prompt_toolkit     3.0.48\n",
      "psutil             6.1.0\n",
      "ptyprocess         0.7.0\n",
      "pure_eval          0.2.3\n",
      "pydantic           2.9.2\n",
      "pydantic_core      2.23.4\n",
      "pygame             2.6.1\n",
      "Pygments           2.18.0\n",
      "pyparsing          3.2.0\n",
      "python-dateutil    2.9.0.post0\n",
      "pytz               2024.2\n",
      "pyzmq              26.2.0\n",
      "requests           2.32.3\n",
      "setuptools         59.6.0\n",
      "six                1.16.0\n",
      "stack-data         0.6.3\n",
      "tabulate           0.9.0\n",
      "tornado            6.4.2\n",
      "traitlets          5.14.3\n",
      "typing_extensions  4.12.2\n",
      "tzdata             2024.2\n",
      "urllib3            2.2.3\n",
      "wcwidth            0.2.13\n"
     ]
    }
   ],
   "source": [
    "\n",
    "# проверяем есть ли либа\n",
    "!pip list"
   ]
  },
  {
   "cell_type": "code",
   "execution_count": null,
   "metadata": {},
   "outputs": [
    {
     "name": "stderr",
     "output_type": "stream",
     "text": [
      "INFO:__main__:Отправка запроса к API\n"
     ]
    },
    {
     "name": "stdout",
     "output_type": "stream",
     "text": [
      "[{'id': 1, 'todo': 'Do something nice for someone you care about', 'completed': False, 'userId': 152}, {'id': 4, 'todo': 'Watch a documentary', 'completed': False, 'userId': 84}, {'id': 5, 'todo': 'Invest in cryptocurrency', 'completed': False, 'userId': 163}, {'id': 6, 'todo': 'Contribute code or a monetary donation to an open-source software project', 'completed': False, 'userId': 69}, {'id': 9, 'todo': 'Go see a Broadway production', 'completed': False, 'userId': 7}, {'id': 11, 'todo': 'Invite some friends over for a game night', 'completed': False, 'userId': 104}, {'id': 12, 'todo': 'Have a football scrimmage with some friends', 'completed': False, 'userId': 32}, {'id': 14, 'todo': 'Organize pantry', 'completed': False, 'userId': 46}, {'id': 17, 'todo': 'Clean out car', 'completed': False, 'userId': 71}, {'id': 20, 'todo': 'Bake a pie with some friends', 'completed': False, 'userId': 162}, {'id': 21, 'todo': 'Create a compost pile', 'completed': False, 'userId': 13}, {'id': 25, 'todo': 'Plan a trip to another country', 'completed': False, 'userId': 140}, {'id': 26, 'todo': 'Improve touch typing', 'completed': False, 'userId': 178}, {'id': 27, 'todo': 'Learn Express.js', 'completed': False, 'userId': 194}, {'id': 28, 'todo': 'Learn calligraphy', 'completed': False, 'userId': 80}]\n"
     ]
    }
   ],
   "source": [
    "# импорт либ\n",
    "import sys\n",
    "import logging\n",
    "import requests\n",
    "\n",
    "# настраиваем логгирование\n",
    "logging.basicConfig(filename='log.txt', level=logging.INFO)\n",
    "log = logging.getLogger(__name__)\n",
    "\n",
    "def get_todos_info(url) -> dict:\n",
    "    '''\n",
    "    Отправляет GET запрос к ресурсу и возвращает лист задач\n",
    "    \n",
    "    :param url: str - ссылка на ресурс\n",
    "    :return: list - неотфильтрованный лист задач\n",
    "    '''\n",
    "    try:\n",
    "        # отправляем GET запрос\n",
    "        response = requests.get(url)\n",
    "        # проверяем код ответа\n",
    "        response.raise_for_status()\n",
    "        log.info('Отправка запроса к API')\n",
    "        return response.json()\n",
    "    except requests.exceptions.RequestException as e:\n",
    "        # обрабатываем ошибки\n",
    "        log.error(f'Произошла ошибка: {e}')\n",
    "        sys.exit(1)\n",
    "        \n",
    "def filter_todoes(todos_info: list) -> list:\n",
    "    '''\n",
    "    Сортирует полученный лист\n",
    "    \n",
    "    :param todos_info: list - лист задач\n",
    "    :return: list - отфильтрованный лист задач\n",
    "    '''\n",
    "    # составление листа невыполенных задач\n",
    "    filtered_todos = [task for task in todos_info['todos'] if not task.get('completed', False)]\n",
    "    \n",
    "    return filtered_todos\n",
    "    \n",
    "        \n",
    "def main():\n",
    "    ''' Мейн функция '''\n",
    "    # url ресурса для получения авторизации\n",
    "    url = 'https://dummyjson.com/todos'\n",
    "    # получаем данные авторизованного юзера\n",
    "    todos_info = get_todos_info(url)\n",
    "    # фильтрация \n",
    "    filtered_todos = filter_todoes(todos_info)\n",
    "    \n",
    "    print(filtered_todos)\n",
    "\n",
    "if __name__ == '__main__':\n",
    "    main()"
   ]
  }
 ],
 "metadata": {
  "kernelspec": {
   "display_name": ".venv",
   "language": "python",
   "name": "python3"
  },
  "language_info": {
   "codemirror_mode": {
    "name": "ipython",
    "version": 3
   },
   "file_extension": ".py",
   "mimetype": "text/x-python",
   "name": "python",
   "nbconvert_exporter": "python",
   "pygments_lexer": "ipython3",
   "version": "3.10.12"
  }
 },
 "nbformat": 4,
 "nbformat_minor": 2
}
