{
 "cells": [
  {
   "cell_type": "markdown",
   "metadata": {},
   "source": [
    "Напишите скрипт на Python, который:\n",
    "1. Авторизуется под пользователем « emilys» с паролем « emilyspass».\n",
    "2. Обновляет поле «lastName» пользователя на «\"UpdatedLastName\"« с помощью метода «PUT».\n",
    "3. Получает обновленную информацию о пользователе и выводит полное имя."
   ]
  },
  {
   "cell_type": "code",
   "execution_count": null,
   "metadata": {},
   "outputs": [],
   "source": [
    "# создание венвы\n",
    "!python3 -m venv .venv"
   ]
  },
  {
   "cell_type": "code",
   "execution_count": null,
   "metadata": {},
   "outputs": [],
   "source": [
    "# даём право на редактирование\n",
    "!chmod +x .venv/bin/activate"
   ]
  },
  {
   "cell_type": "code",
   "execution_count": null,
   "metadata": {},
   "outputs": [],
   "source": [
    "# активируем венву\n",
    "!source .venv/bin/activate"
   ]
  },
  {
   "cell_type": "code",
   "execution_count": null,
   "metadata": {},
   "outputs": [],
   "source": [
    "# деактивируем венву\n",
    "!.venv/bin/activate deactivate"
   ]
  },
  {
   "cell_type": "code",
   "execution_count": null,
   "metadata": {},
   "outputs": [],
   "source": [
    "# проверяем работает ли венва\n",
    "!which python3\n",
    "!which pip"
   ]
  },
  {
   "cell_type": "code",
   "execution_count": null,
   "metadata": {},
   "outputs": [],
   "source": [
    "# устанавливаем либу\n",
    "!pip install requests"
   ]
  },
  {
   "cell_type": "code",
   "execution_count": null,
   "metadata": {},
   "outputs": [],
   "source": [
    "\n",
    "# проверяем есть ли либа\n",
    "!pip list"
   ]
  },
  {
   "cell_type": "code",
   "execution_count": null,
   "metadata": {},
   "outputs": [
    {
     "name": "stderr",
     "output_type": "stream",
     "text": [
      "INFO:__main__:Отправка запроса к API\n",
      "INFO:__main__:Фамилия успешно обновлена\n"
     ]
    },
    {
     "name": "stdout",
     "output_type": "stream",
     "text": [
      "{'id': 1, 'firstName': 'Emily', 'lastName': 'Owais', 'maidenName': 'Smith', 'age': 28, 'gender': 'female', 'email': 'emily.johnson@x.dummyjson.com', 'phone': '+81 965-431-3024', 'username': 'emilys', 'password': 'emilyspass', 'birthDate': '1996-5-30', 'image': 'https://dummyjson.com/icon/emilys/128', 'bloodGroup': 'O-', 'height': 193.24, 'weight': 63.16, 'eyeColor': 'Green', 'hair': {'color': '', 'type': ''}, 'ip': '42.48.100.32', 'address': {'address': '', 'city': '', 'coordinates': {'lat': None, 'lng': None}, 'postalCode': '', 'state': ''}, 'macAddress': '47:fa:41:18:ec:eb', 'university': 'University of Wisconsin--Madison', 'bank': {'cardExpire': '', 'cardNumber': '', 'cardType': '', 'currency': '', 'iban': ''}, 'company': {'address': {'address': '', 'city': '', 'coordinates': {'lat': None, 'lng': None}, 'postalCode': '', 'state': ''}, 'department': '', 'name': '', 'title': ''}, 'ein': '977-175', 'ssn': '900-590-289', 'userAgent': 'Mozilla/5.0 (Macintosh; Intel Mac OS X 10_15_7) AppleWebKit/537.36 (KHTML, like Gecko) Chrome/96.0.4664.93 Safari/537.36'}\n"
     ]
    }
   ],
   "source": [
    "# импорт либ\n",
    "import sys\n",
    "import logging\n",
    "import requests\n",
    "\n",
    "# настраиваем логгирование\n",
    "logging.basicConfig(filename='log.txt', level=logging.INFO)\n",
    "log = logging.getLogger(__name__)\n",
    "\n",
    "def get_user_info(url: str, params: dict) -> dict:\n",
    "    '''\n",
    "    Отправляет POST запрос к ресурсу и возвращает JSON авторизованного юзера\n",
    "    \n",
    "    :param url: str - ссылка на ресурс\n",
    "    :param params: dict - параметры запроса\n",
    "    :return: dict - JSON контент ответа   \n",
    "    '''\n",
    "    try:\n",
    "        # отправляем POST запрос\n",
    "        response = requests.post(url, json=params)\n",
    "        # проверяем код ответа\n",
    "        response.raise_for_status()\n",
    "        log.info('Отправка запроса к API')\n",
    "        return response.json()\n",
    "    except requests.exceptions.RequestException as e:\n",
    "        # обрабатываем ошибки\n",
    "        log.error(f'Произошла ошибка: {e}')\n",
    "        sys.exit(1)\n",
    "\n",
    "def put_last_name(url: str, token: str, user_id: int, new_last_name: str) -> dict:\n",
    "    '''\n",
    "    Отправляет PUT запрос к ресурсу и возвращает JSON изменённого юзера\n",
    "    \n",
    "    :param url: str - ссылка на ресурс\n",
    "    :param token: str - токен юзера\n",
    "    :param user_id: int - ID юзера\n",
    "    :param new_last_name: str - новая фамилия юзера\n",
    "    :return: dict - JSON контент ответа   \n",
    "    '''\n",
    "    try:\n",
    "        # заполнение хидера\n",
    "        headers = {\n",
    "            'Authorization': f'Bearer {token}',\n",
    "            'Content-Type': 'application/json',\n",
    "        }\n",
    "        # оформляем дикт для обновления данных\n",
    "        upd_info = {\n",
    "            'lastName': new_last_name\n",
    "        }\n",
    "        # отправляем PUT запрос\n",
    "        response = requests.put(f'{url}/{user_id}', json=upd_info, headers=headers)\n",
    "        # проверяем код ответа\n",
    "        response.raise_for_status()\n",
    "        log.info('Фамилия успешно обновлена')\n",
    "        return response.json()\n",
    "    except requests.exceptions.RequestException as e:\n",
    "        # обрабатываем ошибки\n",
    "        log.error(f'Ошибка обновления фамилии: {e}')\n",
    "        sys.exit(1)\n",
    "        \n",
    "def main():\n",
    "    ''' Мейн функция '''\n",
    "    # url ресурса для получения авторизации\n",
    "    url_auth = 'https://dummyjson.com/auth/login'\n",
    "    # параметры запроса для авторизации\n",
    "    params = {\n",
    "        'username': 'emilys',\n",
    "        'password': 'emilyspass',\n",
    "        }\n",
    "    \n",
    "    # получаем данные авторизованного юзера\n",
    "    user_info = get_user_info(url_auth, params)\n",
    "    # парсим результат на необходимые переменные \n",
    "    user_id = user_info.get('id')\n",
    "    user_token = user_info.get('token')\n",
    "    # указываем новую фамилию\n",
    "    last_name = 'Owais'\n",
    "    # url ресурса для апдейта данных\n",
    "    url_upd = f'https://dummyjson.com/users/'\n",
    "    \n",
    "    # получаем переименованного юзера\n",
    "    updated_user = put_last_name(url_upd, user_token, user_id, last_name)\n",
    "    \n",
    "    print(updated_user)\n",
    "\n",
    "if __name__ == '__main__':\n",
    "    main()"
   ]
  }
 ],
 "metadata": {
  "kernelspec": {
   "display_name": ".venv",
   "language": "python",
   "name": "python3"
  },
  "language_info": {
   "codemirror_mode": {
    "name": "ipython",
    "version": 3
   },
   "file_extension": ".py",
   "mimetype": "text/x-python",
   "name": "python",
   "nbconvert_exporter": "python",
   "pygments_lexer": "ipython3",
   "version": "3.10.12"
  }
 },
 "nbformat": 4,
 "nbformat_minor": 2
}
