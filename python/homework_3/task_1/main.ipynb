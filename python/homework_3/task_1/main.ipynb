{
 "cells": [
  {
   "cell_type": "markdown",
   "metadata": {},
   "source": [
    "Напишите скрипт на Python, который:\n",
    "1. Получает список продуктов ограничивая результаты до 10 продуктов на страницу и пропуская первые 10 продуктов (т.е., получает вторую страницу).\n",
    "2. Сортирует продукты по цене в порядке убывания.\n",
    "3. Выводит названия продуктов и их цены."
   ]
  },
  {
   "cell_type": "code",
   "execution_count": null,
   "metadata": {},
   "outputs": [],
   "source": [
    "# создание венвы\n",
    "!python3 -m venv .venv"
   ]
  },
  {
   "cell_type": "code",
   "execution_count": null,
   "metadata": {},
   "outputs": [],
   "source": [
    "# даём право на редактирование\n",
    "!chmod +x .venv/bin/activate"
   ]
  },
  {
   "cell_type": "code",
   "execution_count": null,
   "metadata": {},
   "outputs": [],
   "source": [
    "# активируем венву\n",
    "!source .venv/bin/activate"
   ]
  },
  {
   "cell_type": "code",
   "execution_count": null,
   "metadata": {},
   "outputs": [],
   "source": [
    "# деактивируем венву\n",
    "!.venv/bin/activate deactivate"
   ]
  },
  {
   "cell_type": "code",
   "execution_count": null,
   "metadata": {},
   "outputs": [],
   "source": [
    "# проверяем работает ли венва\n",
    "!which python3\n",
    "!which pip"
   ]
  },
  {
   "cell_type": "code",
   "execution_count": null,
   "metadata": {},
   "outputs": [],
   "source": [
    "# устанавливаем либу\n",
    "!pip install requests"
   ]
  },
  {
   "cell_type": "code",
   "execution_count": null,
   "metadata": {},
   "outputs": [],
   "source": [
    "\n",
    "# проверяем есть ли либа\n",
    "!pip list"
   ]
  },
  {
   "cell_type": "code",
   "execution_count": null,
   "metadata": {},
   "outputs": [
    {
     "name": "stdout",
     "output_type": "stream",
     "text": [
      "<class 'list'>\n",
      "- Annibale Colombo Bed: $1899.99\n",
      "- Annibale Colombo Sofa: $2499.99\n",
      "- Bedside Table African Cherry: $299.99\n",
      "- Knoll Saarinen Executive Conference Chair: $499.99\n",
      "- Wooden Bathroom Sink With Mirror: $799.99\n",
      "- Apple: $1.99\n",
      "- Beef Steak: $12.99\n",
      "- Cat Food: $8.99\n",
      "- Chicken Meat: $9.99\n",
      "- Cooking Oil: $4.99\n"
     ]
    }
   ],
   "source": [
    "# импорт либ\n",
    "import sys\n",
    "import logging\n",
    "import requests\n",
    "\n",
    "# настраиваем логгирование\n",
    "logging.basicConfig(filename='log.txt', level=logging.INFO)\n",
    "log = logging.getLogger(__name__)\n",
    "\n",
    "def get_products(url: str, params: dict) -> dict:\n",
    "    '''\n",
    "    Отправляет GET запрос к ресурсу и возвращает JSON продуктов\n",
    "    \n",
    "    :param url: str - ссылка на ресурс\n",
    "    :param params: dict - параметры запроса\n",
    "    :return: dict - JSON контент ответа   \n",
    "    '''\n",
    "\n",
    "    try:\n",
    "        # отправляем GET запрос\n",
    "        response = requests.get(url, params=params)\n",
    "        # проверяем код ответа\n",
    "        response.raise_for_status()\n",
    "        log.info('Отправка запроса к API')\n",
    "        return response.json()\n",
    "    except requests.exceptions.RequestException as e:\n",
    "        # обрабатываем ошибки\n",
    "        log.error(f'Произошла ошибка: {e}')\n",
    "        sys.exit(1)\n",
    "\n",
    "        \n",
    "def main(): \n",
    "    ''' Мейн функция '''\n",
    "    # url ресурса\n",
    "    url = 'https://dummyjson.com/products'\n",
    "    # параметры запроса\n",
    "    params = {\n",
    "        'limit': 10,  # ограничиваем количество товаров\n",
    "        'skip': 10, # пропускаем 10 товаров\n",
    "        'sort': 'price', # сортируем по цене\n",
    "        'order': 'desc', # в порядке убывания\n",
    "        }\n",
    "    \n",
    "    # получаем список товаров\n",
    "    data = get_products(url, params)\n",
    "    products = data.get('products', [])\n",
    "    \n",
    "    # выводим список товаров\n",
    "    for product in products:\n",
    "        print(f\"- {product['title']}: ${product['price']}\")\n",
    "\n",
    "if __name__ == '__main__':\n",
    "    # вызываем мейн функцию\n",
    "    main()"
   ]
  }
 ],
 "metadata": {
  "kernelspec": {
   "display_name": ".venv",
   "language": "python",
   "name": "python3"
  },
  "language_info": {
   "codemirror_mode": {
    "name": "ipython",
    "version": 3
   },
   "file_extension": ".py",
   "mimetype": "text/x-python",
   "name": "python",
   "nbconvert_exporter": "python",
   "pygments_lexer": "ipython3",
   "version": "3.10.12"
  }
 },
 "nbformat": 4,
 "nbformat_minor": 2
}
